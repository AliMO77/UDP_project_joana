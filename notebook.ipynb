{
 "cells": [
  {
   "cell_type": "code",
   "execution_count": 19,
   "metadata": {},
   "outputs": [
    {
     "name": "stdout",
     "output_type": "stream",
     "text": [
      "10ff0e5a393d87039b88243c93f619b55c109ed912707da535c0c40a7617c5cf 10ff0e5a393d87039b88243c93f619b55c109ed912707da535c0c40a7617c5cf\n"
     ]
    }
   ],
   "source": [
    "import hashlib\n",
    "a ='./myfile.txt'\n",
    "b = './received_file_2.txt'\n",
    "\n",
    "def calculate_file_hash(filename):\n",
    "        hash_func = hashlib.sha256()  # You can choose other algorithms like MD5 or SHA-1\n",
    "        with open(filename, \"rb\") as f:\n",
    "            for chunk in iter(lambda: f.read(4096), b\"\"):\n",
    "                hash_func.update(chunk)\n",
    "        return hash_func.hexdigest()\n",
    "\n",
    "one = calculate_file_hash(a)\n",
    "two = calculate_file_hash(b)\n",
    "\n",
    "print(one,two)"
   ]
  }
 ],
 "metadata": {
  "kernelspec": {
   "display_name": "Python 3",
   "language": "python",
   "name": "python3"
  },
  "language_info": {
   "codemirror_mode": {
    "name": "ipython",
    "version": 3
   },
   "file_extension": ".py",
   "mimetype": "text/x-python",
   "name": "python",
   "nbconvert_exporter": "python",
   "pygments_lexer": "ipython3",
   "version": "3.8.10"
  }
 },
 "nbformat": 4,
 "nbformat_minor": 2
}
