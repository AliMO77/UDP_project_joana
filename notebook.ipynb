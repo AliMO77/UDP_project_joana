{
 "cells": [
  {
   "cell_type": "code",
   "execution_count": 3,
   "metadata": {},
   "outputs": [],
   "source": [
    "import socket\n",
    "import time\n",
    "import random\n",
    "\n",
    "\n",
    "import socket\n",
    "\n",
    "class FileClient:\n",
    "    def __init__(self, server_ip='127.0.0.1', server_port=12345):\n",
    "        self.server_address = (server_ip, server_port)\n",
    "\n",
    "        # Create a UDP socket\n",
    "        self.sock = socket.socket(socket.AF_INET, socket.SOCK_DGRAM)\n",
    "\n",
    "    def request_file(self, file_path='received_file.txt'):\n",
    "        try:\n",
    "            # Send request to server\n",
    "            message = 'request_file'\n",
    "            print(f\"Sending request to server: {message}\")\n",
    "            self.sock.sendto(message.encode(), self.server_address)\n",
    "\n",
    "            # Receive file from server\n",
    "            file_data, _ = self.sock.recvfrom(4096)\n",
    "            print(\"File received, saving...\")\n",
    "\n",
    "            # Save file to the specified path\n",
    "            with open(file_path, \"wb\") as file:\n",
    "                file.write(file_data)\n",
    "            print(f\"File has been received and saved to {file_path}\")\n",
    "\n",
    "        finally:\n",
    "            print(\"Closing the socket\")\n",
    "            self.sock.close()\n"
   ]
  },
  {
   "cell_type": "code",
   "execution_count": 16,
   "metadata": {},
   "outputs": [
    {
     "data": {
      "text/plain": [
       "True"
      ]
     },
     "execution_count": 16,
     "metadata": {},
     "output_type": "execute_result"
    }
   ],
   "source": [
    "import hashlib\n",
    "a ='./myfile.txt'\n",
    "b = './received_file_1.txt'\n",
    "\n",
    "def calculate_file_hash(filename):\n",
    "        hash_func = hashlib.sha256()  # You can choose other algorithms like MD5 or SHA-1\n",
    "        with open(filename, \"rb\") as f:\n",
    "            for chunk in iter(lambda: f.read(4096), b\"\"):\n",
    "                hash_func.update(chunk)\n",
    "        return hash_func.hexdigest()\n",
    "\n",
    "one = calculate_file_hash(a)\n",
    "two = calculate_file_hash(b)\n",
    "\n",
    "one == two"
   ]
  }
 ],
 "metadata": {
  "kernelspec": {
   "display_name": "Python 3",
   "language": "python",
   "name": "python3"
  },
  "language_info": {
   "codemirror_mode": {
    "name": "ipython",
    "version": 3
   },
   "file_extension": ".py",
   "mimetype": "text/x-python",
   "name": "python",
   "nbconvert_exporter": "python",
   "pygments_lexer": "ipython3",
   "version": "3.8.10"
  }
 },
 "nbformat": 4,
 "nbformat_minor": 2
}
